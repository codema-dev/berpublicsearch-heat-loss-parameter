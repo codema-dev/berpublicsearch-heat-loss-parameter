{
 "cells": [
  {
   "cell_type": "code",
   "execution_count": null,
   "metadata": {},
   "outputs": [],
   "source": [
    "import pandas as pd\n",
    "import numpy as np"
   ]
  },
  {
   "cell_type": "code",
   "execution_count": null,
   "metadata": {},
   "outputs": [],
   "source": [
    "from seai_deap import fab\n",
    "from seai_deap import dim\n",
    "from seai_deap import vent"
   ]
  },
  {
   "cell_type": "markdown",
   "metadata": {},
   "source": [
    "# Load BERPublicsearch data"
   ]
  },
  {
   "cell_type": "code",
   "execution_count": null,
   "metadata": {},
   "outputs": [],
   "source": [
    "berpublicsearch = pd.read_csv(\"../data/BERPublicsearch.zip\")"
   ]
  },
  {
   "cell_type": "code",
   "execution_count": null,
   "metadata": {},
   "outputs": [],
   "source": [
    "berpublicsearch"
   ]
  },
  {
   "cell_type": "markdown",
   "metadata": {},
   "source": [
    "# Calculate the Heat Loss Parameter for the entire stock"
   ]
  },
  {
   "cell_type": "code",
   "execution_count": null,
   "metadata": {},
   "outputs": [],
   "source": [
    "thermal_bridging = fab.calculate_thermal_bridging(\n",
    "    wall_area=berpublicsearch[\"WallArea\"],\n",
    "    roof_area=berpublicsearch[\"RoofArea\"],\n",
    "    floor_area=berpublicsearch[\"FloorArea\"],\n",
    "    window_area=berpublicsearch[\"WindowArea\"],\n",
    "    door_area=berpublicsearch[\"DoorArea\"],\n",
    "    thermal_bridging_factor=berpublicsearch[\"ThermalBridgingFactor\"],\n",
    ")"
   ]
  },
  {
   "cell_type": "code",
   "execution_count": null,
   "metadata": {},
   "outputs": [],
   "source": [
    "heat_loss_via_plane_elements = fab.calculate_heat_loss_via_plane_elements(\n",
    "    wall_area=berpublicsearch[\"WallArea\"],\n",
    "    roof_area=berpublicsearch[\"RoofArea\"],\n",
    "    floor_area=berpublicsearch[\"FloorArea\"],\n",
    "    window_area=berpublicsearch[\"WindowArea\"],\n",
    "    door_area=berpublicsearch[\"DoorArea\"],\n",
    "    wall_uvalue=berpublicsearch[\"UValueWall\"],\n",
    "    roof_uvalue=berpublicsearch[\"UValueRoof\"],\n",
    "    floor_uvalue=berpublicsearch[\"UValueFloor\"],\n",
    "    window_uvalue=berpublicsearch[\"UValueWindow\"],\n",
    "    door_uvalue=berpublicsearch[\"UvalueDoor\"],\n",
    ")"
   ]
  },
  {
   "cell_type": "code",
   "execution_count": null,
   "metadata": {},
   "outputs": [],
   "source": [
    "fabric_heat_loss = fab.calculate_fabric_heat_loss(\n",
    "    heat_loss_via_plane_elements=heat_loss_via_plane_elements,\n",
    "    thermal_bridging=thermal_bridging,\n",
    ")"
   ]
  },
  {
   "cell_type": "code",
   "execution_count": null,
   "metadata": {},
   "outputs": [],
   "source": [
    "building_volume = dim.calculate_building_volume(\n",
    "    ground_floor_area=berpublicsearch[\"GroundFloorArea\"],\n",
    "    first_floor_area=berpublicsearch[\"FirstFloorArea\"],\n",
    "    second_floor_area=berpublicsearch[\"SecondFloorArea\"],\n",
    "    third_floor_area=berpublicsearch[\"ThirdFloorArea\"],\n",
    "    ground_floor_height=berpublicsearch[\"GroundFloorHeight\"],\n",
    "    first_floor_height=berpublicsearch[\"FirstFloorHeight\"],\n",
    "    second_floor_height=berpublicsearch[\"SecondFloorHeight\"],\n",
    "    third_floor_height=berpublicsearch[\"ThirdFloorHeight\"]\n",
    ")"
   ]
  },
  {
   "cell_type": "code",
   "execution_count": null,
   "metadata": {},
   "outputs": [],
   "source": [
    "ventilation_heat_loss = vent.calculate_ventilation_heat_loss(volume=building_volume)"
   ]
  },
  {
   "cell_type": "code",
   "execution_count": null,
   "metadata": {},
   "outputs": [],
   "source": [
    "heat_loss_coefficient = fab.calculate_heat_loss_coefficient(\n",
    "    fabric_heat_loss=fabric_heat_loss,\n",
    "    ventilation_heat_loss=ventilation_heat_loss,\n",
    ")"
   ]
  },
  {
   "cell_type": "code",
   "execution_count": null,
   "metadata": {},
   "outputs": [],
   "source": [
    "total_floor_area = dim.calculate_total_floor_area(\n",
    "    ground_floor_area=berpublicsearch[\"GroundFloorArea\"],\n",
    "    first_floor_area=berpublicsearch[\"FirstFloorArea\"],\n",
    "    second_floor_area=berpublicsearch[\"SecondFloorArea\"],\n",
    "    third_floor_area=berpublicsearch[\"ThirdFloorArea\"],\n",
    ")"
   ]
  },
  {
   "cell_type": "code",
   "execution_count": null,
   "metadata": {},
   "outputs": [],
   "source": [
    "heat_loss_parameter = fab.calculate_heat_loss_parameter(\n",
    "    heat_loss_coefficient=heat_loss_coefficient,\n",
    "    total_floor_area=total_floor_area,\n",
    ")"
   ]
  },
  {
   "cell_type": "code",
   "execution_count": null,
   "metadata": {},
   "outputs": [],
   "source": [
    "heat_loss_parameter"
   ]
  },
  {
   "cell_type": "markdown",
   "metadata": {},
   "source": [
    "# Extract homes where HLP < 2\n",
    "\n",
    "According to SEAI any dwelling with a HLP of less than 2 is suitable for a heat pump without a fabric/ventilation upgrade\n",
    "\n",
    "See SEAI Technical Assessment Process for Heat Pump System Grants: https://www.seai.ie/publications/Technical_Advisor_Role.pdf"
   ]
  },
  {
   "cell_type": "code",
   "execution_count": null,
   "metadata": {},
   "outputs": [],
   "source": [
    "berpublicsearch[\"heat_loss_parameter\"] = heat_loss_parameter"
   ]
  },
  {
   "cell_type": "code",
   "execution_count": null,
   "metadata": {},
   "outputs": [],
   "source": [
    "berpublicsearch_suitable_for_hps = berpublicsearch.query(\"`heat_loss_parameter` < 2\")"
   ]
  },
  {
   "cell_type": "code",
   "execution_count": null,
   "metadata": {},
   "outputs": [],
   "source": [
    "berpublicsearch_suitable_for_hps"
   ]
  },
  {
   "cell_type": "code",
   "execution_count": null,
   "metadata": {},
   "outputs": [],
   "source": [
    "berpublicsearch_not_suitable_for_hps = berpublicsearch.query(\"`heat_loss_parameter` >= 2\")"
   ]
  },
  {
   "cell_type": "code",
   "execution_count": null,
   "metadata": {},
   "outputs": [],
   "source": [
    "berpublicsearch_not_suitable_for_hps"
   ]
  },
  {
   "cell_type": "markdown",
   "metadata": {},
   "source": [
    "# Plot Year of Construction for suitable homes"
   ]
  },
  {
   "cell_type": "code",
   "execution_count": null,
   "metadata": {},
   "outputs": [],
   "source": [
    "import matplotlib.pyplot as plt\n",
    "import seaborn as sns"
   ]
  },
  {
   "cell_type": "code",
   "execution_count": null,
   "metadata": {},
   "outputs": [],
   "source": [
    "ax = sns.countplot(x=berpublicsearch_suitable_for_hps[\"Year_of_Construction\"])\n",
    "\n",
    "sns.set(rc={'figure.figsize':(40, 40)})\n",
    "ax.set_xticklabels(ax.get_xticklabels(),rotation=90);"
   ]
  }
 ],
 "metadata": {
  "kernelspec": {
   "display_name": "Python 3.8.5 64-bit ('deap': conda)",
   "metadata": {
    "interpreter": {
     "hash": "0ee1e73fd56830e92661579a41d6a5acb7e258466979da46d65cf21c68c7f57a"
    }
   },
   "name": "python3"
  },
  "language_info": {
   "codemirror_mode": {
    "name": "ipython",
    "version": 3
   },
   "file_extension": ".py",
   "mimetype": "text/x-python",
   "name": "python",
   "nbconvert_exporter": "python",
   "pygments_lexer": "ipython3",
   "version": "3.8.5-final"
  }
 },
 "nbformat": 4,
 "nbformat_minor": 4
}
